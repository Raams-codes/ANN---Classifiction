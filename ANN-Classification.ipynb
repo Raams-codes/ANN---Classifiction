{
 "cells": [
  {
   "cell_type": "markdown",
   "id": "4753ef30",
   "metadata": {},
   "source": [
    "## ANN Tutorial"
   ]
  },
  {
   "cell_type": "code",
   "execution_count": 1,
   "id": "b3953bd3",
   "metadata": {},
   "outputs": [],
   "source": [
    "import pandas as pd\n",
    "import numpy as np\n",
    "import seaborn as sns\n",
    "import matplotlib.pyplot as plt"
   ]
  },
  {
   "cell_type": "code",
   "execution_count": 2,
   "id": "cf6138c2",
   "metadata": {},
   "outputs": [],
   "source": [
    "df=pd.read_csv(\"C:\\\\Users\\\\DELL\\\\Desktop\\\\DS\\\\DL\\\\ANN\\\\Churn_Modelling.csv\")"
   ]
  },
  {
   "cell_type": "code",
   "execution_count": 3,
   "id": "28851f7f",
   "metadata": {
    "scrolled": true
   },
   "outputs": [
    {
     "data": {
      "text/html": [
       "<div>\n",
       "<style scoped>\n",
       "    .dataframe tbody tr th:only-of-type {\n",
       "        vertical-align: middle;\n",
       "    }\n",
       "\n",
       "    .dataframe tbody tr th {\n",
       "        vertical-align: top;\n",
       "    }\n",
       "\n",
       "    .dataframe thead th {\n",
       "        text-align: right;\n",
       "    }\n",
       "</style>\n",
       "<table border=\"1\" class=\"dataframe\">\n",
       "  <thead>\n",
       "    <tr style=\"text-align: right;\">\n",
       "      <th></th>\n",
       "      <th>RowNumber</th>\n",
       "      <th>CustomerId</th>\n",
       "      <th>Surname</th>\n",
       "      <th>CreditScore</th>\n",
       "      <th>Geography</th>\n",
       "      <th>Gender</th>\n",
       "      <th>Age</th>\n",
       "      <th>Tenure</th>\n",
       "      <th>Balance</th>\n",
       "      <th>NumOfProducts</th>\n",
       "      <th>HasCrCard</th>\n",
       "      <th>IsActiveMember</th>\n",
       "      <th>EstimatedSalary</th>\n",
       "      <th>Exited</th>\n",
       "    </tr>\n",
       "  </thead>\n",
       "  <tbody>\n",
       "    <tr>\n",
       "      <th>0</th>\n",
       "      <td>1</td>\n",
       "      <td>15634602</td>\n",
       "      <td>Hargrave</td>\n",
       "      <td>619</td>\n",
       "      <td>France</td>\n",
       "      <td>Female</td>\n",
       "      <td>42</td>\n",
       "      <td>2</td>\n",
       "      <td>0.00</td>\n",
       "      <td>1</td>\n",
       "      <td>1</td>\n",
       "      <td>1</td>\n",
       "      <td>101348.88</td>\n",
       "      <td>1</td>\n",
       "    </tr>\n",
       "    <tr>\n",
       "      <th>1</th>\n",
       "      <td>2</td>\n",
       "      <td>15647311</td>\n",
       "      <td>Hill</td>\n",
       "      <td>608</td>\n",
       "      <td>Spain</td>\n",
       "      <td>Female</td>\n",
       "      <td>41</td>\n",
       "      <td>1</td>\n",
       "      <td>83807.86</td>\n",
       "      <td>1</td>\n",
       "      <td>0</td>\n",
       "      <td>1</td>\n",
       "      <td>112542.58</td>\n",
       "      <td>0</td>\n",
       "    </tr>\n",
       "    <tr>\n",
       "      <th>2</th>\n",
       "      <td>3</td>\n",
       "      <td>15619304</td>\n",
       "      <td>Onio</td>\n",
       "      <td>502</td>\n",
       "      <td>France</td>\n",
       "      <td>Female</td>\n",
       "      <td>42</td>\n",
       "      <td>8</td>\n",
       "      <td>159660.80</td>\n",
       "      <td>3</td>\n",
       "      <td>1</td>\n",
       "      <td>0</td>\n",
       "      <td>113931.57</td>\n",
       "      <td>1</td>\n",
       "    </tr>\n",
       "    <tr>\n",
       "      <th>3</th>\n",
       "      <td>4</td>\n",
       "      <td>15701354</td>\n",
       "      <td>Boni</td>\n",
       "      <td>699</td>\n",
       "      <td>France</td>\n",
       "      <td>Female</td>\n",
       "      <td>39</td>\n",
       "      <td>1</td>\n",
       "      <td>0.00</td>\n",
       "      <td>2</td>\n",
       "      <td>0</td>\n",
       "      <td>0</td>\n",
       "      <td>93826.63</td>\n",
       "      <td>0</td>\n",
       "    </tr>\n",
       "    <tr>\n",
       "      <th>4</th>\n",
       "      <td>5</td>\n",
       "      <td>15737888</td>\n",
       "      <td>Mitchell</td>\n",
       "      <td>850</td>\n",
       "      <td>Spain</td>\n",
       "      <td>Female</td>\n",
       "      <td>43</td>\n",
       "      <td>2</td>\n",
       "      <td>125510.82</td>\n",
       "      <td>1</td>\n",
       "      <td>1</td>\n",
       "      <td>1</td>\n",
       "      <td>79084.10</td>\n",
       "      <td>0</td>\n",
       "    </tr>\n",
       "  </tbody>\n",
       "</table>\n",
       "</div>"
      ],
      "text/plain": [
       "   RowNumber  CustomerId   Surname  CreditScore Geography  Gender  Age  \\\n",
       "0          1    15634602  Hargrave          619    France  Female   42   \n",
       "1          2    15647311      Hill          608     Spain  Female   41   \n",
       "2          3    15619304      Onio          502    France  Female   42   \n",
       "3          4    15701354      Boni          699    France  Female   39   \n",
       "4          5    15737888  Mitchell          850     Spain  Female   43   \n",
       "\n",
       "   Tenure    Balance  NumOfProducts  HasCrCard  IsActiveMember  \\\n",
       "0       2       0.00              1          1               1   \n",
       "1       1   83807.86              1          0               1   \n",
       "2       8  159660.80              3          1               0   \n",
       "3       1       0.00              2          0               0   \n",
       "4       2  125510.82              1          1               1   \n",
       "\n",
       "   EstimatedSalary  Exited  \n",
       "0        101348.88       1  \n",
       "1        112542.58       0  \n",
       "2        113931.57       1  \n",
       "3         93826.63       0  \n",
       "4         79084.10       0  "
      ]
     },
     "execution_count": 3,
     "metadata": {},
     "output_type": "execute_result"
    }
   ],
   "source": [
    "df.head()"
   ]
  },
  {
   "cell_type": "code",
   "execution_count": 4,
   "id": "6db847a5",
   "metadata": {},
   "outputs": [
    {
     "data": {
      "text/plain": [
       "0"
      ]
     },
     "execution_count": 4,
     "metadata": {},
     "output_type": "execute_result"
    }
   ],
   "source": [
    "df.duplicated().sum()"
   ]
  },
  {
   "cell_type": "code",
   "execution_count": 5,
   "id": "f30552a8",
   "metadata": {},
   "outputs": [
    {
     "data": {
      "text/plain": [
       "(10000, 14)"
      ]
     },
     "execution_count": 5,
     "metadata": {},
     "output_type": "execute_result"
    }
   ],
   "source": [
    "df=df.drop_duplicates()\n",
    "df.shape"
   ]
  },
  {
   "cell_type": "code",
   "execution_count": 6,
   "id": "dd065df9",
   "metadata": {},
   "outputs": [
    {
     "name": "stdout",
     "output_type": "stream",
     "text": [
      "<class 'pandas.core.frame.DataFrame'>\n",
      "Int64Index: 10000 entries, 0 to 9999\n",
      "Data columns (total 14 columns):\n",
      " #   Column           Non-Null Count  Dtype  \n",
      "---  ------           --------------  -----  \n",
      " 0   RowNumber        10000 non-null  int64  \n",
      " 1   CustomerId       10000 non-null  int64  \n",
      " 2   Surname          10000 non-null  object \n",
      " 3   CreditScore      10000 non-null  int64  \n",
      " 4   Geography        10000 non-null  object \n",
      " 5   Gender           10000 non-null  object \n",
      " 6   Age              10000 non-null  int64  \n",
      " 7   Tenure           10000 non-null  int64  \n",
      " 8   Balance          10000 non-null  float64\n",
      " 9   NumOfProducts    10000 non-null  int64  \n",
      " 10  HasCrCard        10000 non-null  int64  \n",
      " 11  IsActiveMember   10000 non-null  int64  \n",
      " 12  EstimatedSalary  10000 non-null  float64\n",
      " 13  Exited           10000 non-null  int64  \n",
      "dtypes: float64(2), int64(9), object(3)\n",
      "memory usage: 1.1+ MB\n"
     ]
    }
   ],
   "source": [
    "df.info()"
   ]
  },
  {
   "cell_type": "code",
   "execution_count": 7,
   "id": "2d2c5fe5",
   "metadata": {},
   "outputs": [],
   "source": [
    "#spliting dependent and independent variables\n",
    "X=df.iloc[:,3:13]\n",
    "y=df.iloc[:,-1]"
   ]
  },
  {
   "cell_type": "code",
   "execution_count": 8,
   "id": "38e4d144",
   "metadata": {},
   "outputs": [
    {
     "data": {
      "text/html": [
       "<div>\n",
       "<style scoped>\n",
       "    .dataframe tbody tr th:only-of-type {\n",
       "        vertical-align: middle;\n",
       "    }\n",
       "\n",
       "    .dataframe tbody tr th {\n",
       "        vertical-align: top;\n",
       "    }\n",
       "\n",
       "    .dataframe thead th {\n",
       "        text-align: right;\n",
       "    }\n",
       "</style>\n",
       "<table border=\"1\" class=\"dataframe\">\n",
       "  <thead>\n",
       "    <tr style=\"text-align: right;\">\n",
       "      <th></th>\n",
       "      <th>CreditScore</th>\n",
       "      <th>Geography</th>\n",
       "      <th>Gender</th>\n",
       "      <th>Age</th>\n",
       "      <th>Tenure</th>\n",
       "      <th>Balance</th>\n",
       "      <th>NumOfProducts</th>\n",
       "      <th>HasCrCard</th>\n",
       "      <th>IsActiveMember</th>\n",
       "      <th>EstimatedSalary</th>\n",
       "    </tr>\n",
       "  </thead>\n",
       "  <tbody>\n",
       "    <tr>\n",
       "      <th>0</th>\n",
       "      <td>619</td>\n",
       "      <td>France</td>\n",
       "      <td>Female</td>\n",
       "      <td>42</td>\n",
       "      <td>2</td>\n",
       "      <td>0.00</td>\n",
       "      <td>1</td>\n",
       "      <td>1</td>\n",
       "      <td>1</td>\n",
       "      <td>101348.88</td>\n",
       "    </tr>\n",
       "    <tr>\n",
       "      <th>1</th>\n",
       "      <td>608</td>\n",
       "      <td>Spain</td>\n",
       "      <td>Female</td>\n",
       "      <td>41</td>\n",
       "      <td>1</td>\n",
       "      <td>83807.86</td>\n",
       "      <td>1</td>\n",
       "      <td>0</td>\n",
       "      <td>1</td>\n",
       "      <td>112542.58</td>\n",
       "    </tr>\n",
       "    <tr>\n",
       "      <th>2</th>\n",
       "      <td>502</td>\n",
       "      <td>France</td>\n",
       "      <td>Female</td>\n",
       "      <td>42</td>\n",
       "      <td>8</td>\n",
       "      <td>159660.80</td>\n",
       "      <td>3</td>\n",
       "      <td>1</td>\n",
       "      <td>0</td>\n",
       "      <td>113931.57</td>\n",
       "    </tr>\n",
       "    <tr>\n",
       "      <th>3</th>\n",
       "      <td>699</td>\n",
       "      <td>France</td>\n",
       "      <td>Female</td>\n",
       "      <td>39</td>\n",
       "      <td>1</td>\n",
       "      <td>0.00</td>\n",
       "      <td>2</td>\n",
       "      <td>0</td>\n",
       "      <td>0</td>\n",
       "      <td>93826.63</td>\n",
       "    </tr>\n",
       "    <tr>\n",
       "      <th>4</th>\n",
       "      <td>850</td>\n",
       "      <td>Spain</td>\n",
       "      <td>Female</td>\n",
       "      <td>43</td>\n",
       "      <td>2</td>\n",
       "      <td>125510.82</td>\n",
       "      <td>1</td>\n",
       "      <td>1</td>\n",
       "      <td>1</td>\n",
       "      <td>79084.10</td>\n",
       "    </tr>\n",
       "  </tbody>\n",
       "</table>\n",
       "</div>"
      ],
      "text/plain": [
       "   CreditScore Geography  Gender  Age  Tenure    Balance  NumOfProducts  \\\n",
       "0          619    France  Female   42       2       0.00              1   \n",
       "1          608     Spain  Female   41       1   83807.86              1   \n",
       "2          502    France  Female   42       8  159660.80              3   \n",
       "3          699    France  Female   39       1       0.00              2   \n",
       "4          850     Spain  Female   43       2  125510.82              1   \n",
       "\n",
       "   HasCrCard  IsActiveMember  EstimatedSalary  \n",
       "0          1               1        101348.88  \n",
       "1          0               1        112542.58  \n",
       "2          1               0        113931.57  \n",
       "3          0               0         93826.63  \n",
       "4          1               1         79084.10  "
      ]
     },
     "execution_count": 8,
     "metadata": {},
     "output_type": "execute_result"
    }
   ],
   "source": [
    "X.head()"
   ]
  },
  {
   "cell_type": "code",
   "execution_count": 9,
   "id": "04fb15f6",
   "metadata": {
    "scrolled": true
   },
   "outputs": [
    {
     "data": {
      "text/plain": [
       "0    1\n",
       "1    0\n",
       "2    1\n",
       "3    0\n",
       "4    0\n",
       "Name: Exited, dtype: int64"
      ]
     },
     "execution_count": 9,
     "metadata": {},
     "output_type": "execute_result"
    }
   ],
   "source": [
    "y.head()"
   ]
  },
  {
   "cell_type": "code",
   "execution_count": 10,
   "id": "458aec4c",
   "metadata": {
    "scrolled": true
   },
   "outputs": [
    {
     "data": {
      "text/plain": [
       "0       0\n",
       "1       0\n",
       "2       0\n",
       "3       0\n",
       "4       0\n",
       "       ..\n",
       "9995    1\n",
       "9996    1\n",
       "9997    0\n",
       "9998    1\n",
       "9999    0\n",
       "Name: Gender, Length: 10000, dtype: int64"
      ]
     },
     "execution_count": 10,
     "metadata": {},
     "output_type": "execute_result"
    }
   ],
   "source": [
    "X[\"Gender\"]=df[\"Gender\"].replace([\"Female\",\"Male\"],[0,1])\n",
    "X[\"Gender\"]"
   ]
  },
  {
   "cell_type": "code",
   "execution_count": 11,
   "id": "ae2fd74b",
   "metadata": {},
   "outputs": [],
   "source": [
    "from sklearn.preprocessing import LabelEncoder"
   ]
  },
  {
   "cell_type": "code",
   "execution_count": 12,
   "id": "a7c497b2",
   "metadata": {},
   "outputs": [],
   "source": [
    "encoder = LabelEncoder()"
   ]
  },
  {
   "cell_type": "code",
   "execution_count": 13,
   "id": "8e8207e5",
   "metadata": {},
   "outputs": [
    {
     "data": {
      "text/plain": [
       "0       0\n",
       "1       2\n",
       "2       0\n",
       "3       0\n",
       "4       2\n",
       "       ..\n",
       "9995    0\n",
       "9996    0\n",
       "9997    0\n",
       "9998    1\n",
       "9999    0\n",
       "Name: Geography, Length: 10000, dtype: int32"
      ]
     },
     "execution_count": 13,
     "metadata": {},
     "output_type": "execute_result"
    }
   ],
   "source": [
    "X[\"Geography\"] = encoder.fit_transform(X[\"Geography\"])\n",
    "X[\"Geography\"]"
   ]
  },
  {
   "cell_type": "code",
   "execution_count": 14,
   "id": "fa341441",
   "metadata": {},
   "outputs": [
    {
     "data": {
      "text/plain": [
       "0    5014\n",
       "1    2509\n",
       "2    2477\n",
       "Name: Geography, dtype: int64"
      ]
     },
     "execution_count": 14,
     "metadata": {},
     "output_type": "execute_result"
    }
   ],
   "source": [
    "X[\"Geography\"].value_counts()"
   ]
  },
  {
   "cell_type": "code",
   "execution_count": 15,
   "id": "259fb2ec",
   "metadata": {},
   "outputs": [],
   "source": [
    "from sklearn.model_selection import train_test_split\n",
    "X_train,X_test,y_train,y_test=train_test_split(X,y,test_size=0.2,random_state=42)"
   ]
  },
  {
   "cell_type": "code",
   "execution_count": 16,
   "id": "2eb5bc92",
   "metadata": {},
   "outputs": [],
   "source": [
    "from sklearn.preprocessing import StandardScaler\n",
    "scaled=StandardScaler()\n",
    "\n",
    "X_train=scaled.fit_transform(X_train)\n",
    "X_test=scaled.transform(X_test)"
   ]
  },
  {
   "cell_type": "code",
   "execution_count": 17,
   "id": "246c2287",
   "metadata": {},
   "outputs": [],
   "source": [
    "import keras\n",
    "import tensorflow\n",
    "from tensorflow.keras import Sequential\n",
    "from tensorflow.keras.layers import Dense\n",
    "from tensorflow.keras.layers import LeakyReLU, ReLU,PReLU,ELU\n",
    "from tensorflow.keras.layers import Dropout"
   ]
  },
  {
   "cell_type": "code",
   "execution_count": 18,
   "id": "feeddbd6",
   "metadata": {},
   "outputs": [],
   "source": [
    "classifier=Sequential()\n"
   ]
  },
  {
   "cell_type": "code",
   "execution_count": 19,
   "id": "66ede4f4",
   "metadata": {},
   "outputs": [],
   "source": [
    "## Creating input layer\n",
    "classifier.add(Dense(units=10,activation=\"relu\"))"
   ]
  },
  {
   "cell_type": "code",
   "execution_count": 20,
   "id": "844c08ea",
   "metadata": {},
   "outputs": [],
   "source": [
    "## Creating hidden layer\n",
    "classifier.add(Dense(units=5,activation=\"relu\"))"
   ]
  },
  {
   "cell_type": "code",
   "execution_count": 21,
   "id": "45396d4f",
   "metadata": {},
   "outputs": [],
   "source": [
    "## Output Layer\n",
    "classifier.add(Dense(units=1,activation=\"sigmoid\"))"
   ]
  },
  {
   "cell_type": "code",
   "execution_count": 22,
   "id": "f6e6e24c",
   "metadata": {},
   "outputs": [],
   "source": [
    "#Compiling\n",
    "classifier.compile(optimizer=\"adam\",loss=\"binary_crossentropy\",metrics=[\"accuracy\"])"
   ]
  },
  {
   "cell_type": "code",
   "execution_count": 23,
   "id": "a55d9d09",
   "metadata": {},
   "outputs": [],
   "source": [
    "## Early stopping\n",
    "import tensorflow as tf\n",
    "early_stopping=tf.keras.callbacks.EarlyStopping(\n",
    "    monitor=\"val_loss\",\n",
    "    min_delta=0.0001,\n",
    "    patience=10,\n",
    "    verbose=1,\n",
    "    mode=\"auto\",\n",
    "    baseline=None,\n",
    "    restore_best_weights=False,\n",
    ")"
   ]
  },
  {
   "cell_type": "code",
   "execution_count": 24,
   "id": "ef5be6ef",
   "metadata": {
    "scrolled": true
   },
   "outputs": [
    {
     "name": "stdout",
     "output_type": "stream",
     "text": [
      "Epoch 1/100\n",
      "536/536 [==============================] - 3s 4ms/step - loss: 0.5686 - accuracy: 0.7619 - val_loss: 0.5071 - val_accuracy: 0.7910\n",
      "Epoch 2/100\n",
      "536/536 [==============================] - 2s 3ms/step - loss: 0.4664 - accuracy: 0.7960 - val_loss: 0.4630 - val_accuracy: 0.7925\n",
      "Epoch 3/100\n",
      "536/536 [==============================] - 2s 3ms/step - loss: 0.4374 - accuracy: 0.8020 - val_loss: 0.4485 - val_accuracy: 0.8054\n",
      "Epoch 4/100\n",
      "536/536 [==============================] - 2s 3ms/step - loss: 0.4244 - accuracy: 0.8123 - val_loss: 0.4389 - val_accuracy: 0.8122\n",
      "Epoch 5/100\n",
      "536/536 [==============================] - 1s 3ms/step - loss: 0.4127 - accuracy: 0.8182 - val_loss: 0.4267 - val_accuracy: 0.8217\n",
      "Epoch 6/100\n",
      "536/536 [==============================] - 2s 3ms/step - loss: 0.3998 - accuracy: 0.8287 - val_loss: 0.4154 - val_accuracy: 0.8307\n",
      "Epoch 7/100\n",
      "536/536 [==============================] - 2s 3ms/step - loss: 0.3875 - accuracy: 0.8350 - val_loss: 0.4077 - val_accuracy: 0.8262\n",
      "Epoch 8/100\n",
      "536/536 [==============================] - 2s 3ms/step - loss: 0.3786 - accuracy: 0.8414 - val_loss: 0.3972 - val_accuracy: 0.8383\n",
      "Epoch 9/100\n",
      "536/536 [==============================] - 2s 3ms/step - loss: 0.3708 - accuracy: 0.8461 - val_loss: 0.3916 - val_accuracy: 0.8391\n",
      "Epoch 10/100\n",
      "536/536 [==============================] - 2s 3ms/step - loss: 0.3654 - accuracy: 0.8477 - val_loss: 0.3904 - val_accuracy: 0.8379\n",
      "Epoch 11/100\n",
      "536/536 [==============================] - 2s 3ms/step - loss: 0.3610 - accuracy: 0.8485 - val_loss: 0.3863 - val_accuracy: 0.8376\n",
      "Epoch 12/100\n",
      "536/536 [==============================] - 2s 3ms/step - loss: 0.3577 - accuracy: 0.8524 - val_loss: 0.3811 - val_accuracy: 0.8429\n",
      "Epoch 13/100\n",
      "536/536 [==============================] - 2s 3ms/step - loss: 0.3546 - accuracy: 0.8543 - val_loss: 0.3795 - val_accuracy: 0.8429\n",
      "Epoch 14/100\n",
      "536/536 [==============================] - 2s 3ms/step - loss: 0.3506 - accuracy: 0.8548 - val_loss: 0.3781 - val_accuracy: 0.8448\n",
      "Epoch 15/100\n",
      "536/536 [==============================] - 2s 3ms/step - loss: 0.3500 - accuracy: 0.8567 - val_loss: 0.3746 - val_accuracy: 0.8440\n",
      "Epoch 16/100\n",
      "536/536 [==============================] - 2s 4ms/step - loss: 0.3468 - accuracy: 0.8572 - val_loss: 0.3718 - val_accuracy: 0.8444\n",
      "Epoch 17/100\n",
      "536/536 [==============================] - 2s 3ms/step - loss: 0.3452 - accuracy: 0.8574 - val_loss: 0.3712 - val_accuracy: 0.8459\n",
      "Epoch 18/100\n",
      "536/536 [==============================] - 2s 3ms/step - loss: 0.3427 - accuracy: 0.8582 - val_loss: 0.3679 - val_accuracy: 0.8448\n",
      "Epoch 19/100\n",
      "536/536 [==============================] - 2s 3ms/step - loss: 0.3414 - accuracy: 0.8584 - val_loss: 0.3678 - val_accuracy: 0.8455\n",
      "Epoch 20/100\n",
      "536/536 [==============================] - 2s 3ms/step - loss: 0.3403 - accuracy: 0.8589 - val_loss: 0.3663 - val_accuracy: 0.8459\n",
      "Epoch 21/100\n",
      "536/536 [==============================] - 2s 3ms/step - loss: 0.3385 - accuracy: 0.8591 - val_loss: 0.3675 - val_accuracy: 0.8448\n",
      "Epoch 22/100\n",
      "536/536 [==============================] - 2s 3ms/step - loss: 0.3380 - accuracy: 0.8593 - val_loss: 0.3651 - val_accuracy: 0.8482\n",
      "Epoch 23/100\n",
      "536/536 [==============================] - 2s 4ms/step - loss: 0.3370 - accuracy: 0.8599 - val_loss: 0.3650 - val_accuracy: 0.8451\n",
      "Epoch 24/100\n",
      "536/536 [==============================] - 2s 3ms/step - loss: 0.3366 - accuracy: 0.8600 - val_loss: 0.3661 - val_accuracy: 0.8459\n",
      "Epoch 25/100\n",
      "536/536 [==============================] - 1s 3ms/step - loss: 0.3358 - accuracy: 0.8606 - val_loss: 0.3648 - val_accuracy: 0.8440\n",
      "Epoch 26/100\n",
      "536/536 [==============================] - 1s 3ms/step - loss: 0.3349 - accuracy: 0.8615 - val_loss: 0.3630 - val_accuracy: 0.8470\n",
      "Epoch 27/100\n",
      "536/536 [==============================] - 2s 3ms/step - loss: 0.3347 - accuracy: 0.8615 - val_loss: 0.3618 - val_accuracy: 0.8463\n",
      "Epoch 28/100\n",
      "536/536 [==============================] - 2s 3ms/step - loss: 0.3342 - accuracy: 0.8619 - val_loss: 0.3683 - val_accuracy: 0.8448\n",
      "Epoch 29/100\n",
      "536/536 [==============================] - 2s 3ms/step - loss: 0.3341 - accuracy: 0.8612 - val_loss: 0.3614 - val_accuracy: 0.8444\n",
      "Epoch 30/100\n",
      "536/536 [==============================] - 2s 3ms/step - loss: 0.3328 - accuracy: 0.8627 - val_loss: 0.3626 - val_accuracy: 0.8448\n",
      "Epoch 31/100\n",
      "536/536 [==============================] - 2s 3ms/step - loss: 0.3319 - accuracy: 0.8642 - val_loss: 0.3646 - val_accuracy: 0.8474\n",
      "Epoch 32/100\n",
      "536/536 [==============================] - 2s 3ms/step - loss: 0.3324 - accuracy: 0.8634 - val_loss: 0.3655 - val_accuracy: 0.8444\n",
      "Epoch 33/100\n",
      "536/536 [==============================] - 2s 3ms/step - loss: 0.3320 - accuracy: 0.8630 - val_loss: 0.3640 - val_accuracy: 0.8444\n",
      "Epoch 34/100\n",
      "536/536 [==============================] - 2s 3ms/step - loss: 0.3319 - accuracy: 0.8615 - val_loss: 0.3630 - val_accuracy: 0.8493\n",
      "Epoch 35/100\n",
      "536/536 [==============================] - 2s 3ms/step - loss: 0.3307 - accuracy: 0.8617 - val_loss: 0.3642 - val_accuracy: 0.8432\n",
      "Epoch 36/100\n",
      "536/536 [==============================] - 2s 3ms/step - loss: 0.3311 - accuracy: 0.8640 - val_loss: 0.3626 - val_accuracy: 0.8489\n",
      "Epoch 37/100\n",
      "536/536 [==============================] - 2s 3ms/step - loss: 0.3314 - accuracy: 0.8608 - val_loss: 0.3620 - val_accuracy: 0.8474\n",
      "Epoch 38/100\n",
      "536/536 [==============================] - 2s 3ms/step - loss: 0.3305 - accuracy: 0.8627 - val_loss: 0.3657 - val_accuracy: 0.8470\n",
      "Epoch 39/100\n",
      "536/536 [==============================] - 2s 3ms/step - loss: 0.3307 - accuracy: 0.8643 - val_loss: 0.3628 - val_accuracy: 0.8504\n",
      "Epoch 39: early stopping\n"
     ]
    }
   ],
   "source": [
    "opt=tensorflow.keras.optimizers.Adam(learning_rate=0.01)\n",
    "model_history=classifier.fit(X_train,y_train,validation_split=0.33,batch_size=10,epochs=100,callbacks=early_stopping)"
   ]
  },
  {
   "cell_type": "code",
   "execution_count": 25,
   "id": "2db38613",
   "metadata": {},
   "outputs": [
    {
     "data": {
      "text/plain": [
       "dict_keys(['loss', 'accuracy', 'val_loss', 'val_accuracy'])"
      ]
     },
     "execution_count": 25,
     "metadata": {},
     "output_type": "execute_result"
    }
   ],
   "source": [
    "model_history.history.keys()"
   ]
  },
  {
   "cell_type": "code",
   "execution_count": 26,
   "id": "6107b190",
   "metadata": {},
   "outputs": [
    {
     "data": {
      "image/png": "[encoded data removed]",
      "text/plain": [
       "<Figure size 640x480 with 1 Axes>"
      ]
     },
     "metadata": {},
     "output_type": "display_data"
    }
   ],
   "source": [
    "## summarize history for accuracy\n",
    "plt.plot(model_history.history[\"accuracy\"])\n",
    "plt.plot(model_history.history[\"val_accuracy\"])\n",
    "plt.title(\"model accuracy\")\n",
    "plt.xlabel(\"epoch\")\n",
    "plt.ylabel(\"accuracy\")\n",
    "plt.legend([\"train\",\"test\"],loc=\"upper left\")\n",
    "plt.show()"
   ]
  },
  {
   "cell_type": "code",
   "execution_count": 33,
   "id": "abcc04fc",
   "metadata": {},
   "outputs": [
    {
     "data": {
      "image/png": "[encoded data removed]",
      "text/plain": [
       "<Figure size 640x480 with 1 Axes>"
      ]
     },
     "metadata": {},
     "output_type": "display_data"
    }
   ],
   "source": [
    "## summarize history for accuracy\n",
    "plt.plot(model_history.history[\"loss\"])\n",
    "plt.plot(model_history.history[\"val_loss\"])\n",
    "plt.title(\"model accuracy\")\n",
    "plt.xlabel(\"epoch\")\n",
    "plt.ylim(0,2)\n",
    "plt.ylabel(\"accuracy\")\n",
    "plt.legend([\"train\",\"test\"],loc=\"upper left\")\n",
    "plt.show()"
   ]
  },
  {
   "cell_type": "code",
   "execution_count": 34,
   "id": "e9a3e39e",
   "metadata": {},
   "outputs": [
    {
     "name": "stdout",
     "output_type": "stream",
     "text": [
      "63/63 [==============================] - 0s 2ms/step\n"
     ]
    }
   ],
   "source": [
    "# Predicting\n",
    "y_pred=classifier.predict(X_test)"
   ]
  },
  {
   "cell_type": "code",
   "execution_count": 35,
   "id": "ce1b2d3e",
   "metadata": {},
   "outputs": [],
   "source": [
    "y_pred=(y_pred>=0.5)"
   ]
  },
  {
   "cell_type": "code",
   "execution_count": 36,
   "id": "ad6f10b1",
   "metadata": {},
   "outputs": [
    {
     "data": {
      "text/plain": [
       "array([[1534,   73],\n",
       "       [ 219,  174]], dtype=int64)"
      ]
     },
     "execution_count": 36,
     "metadata": {},
     "output_type": "execute_result"
    }
   ],
   "source": [
    "from sklearn.metrics import confusion_matrix\n",
    "from sklearn.metrics import accuracy_score\n",
    "cm=confusion_matrix(y_test,y_pred)\n",
    "cm"
   ]
  },
  {
   "cell_type": "code",
   "execution_count": 37,
   "id": "2e4ab791",
   "metadata": {},
   "outputs": [
    {
     "data": {
      "text/plain": [
       "85.39999999999999"
      ]
     },
     "execution_count": 37,
     "metadata": {},
     "output_type": "execute_result"
    }
   ],
   "source": [
    "acc_score=accuracy_score(y_test,y_pred)\n",
    "acc_score=acc_score*100\n",
    "acc_score"
   ]
  },
  {
   "cell_type": "code",
   "execution_count": 38,
   "id": "552e8257",
   "metadata": {
    "scrolled": true
   },
   "outputs": [
    {
     "data": {
      "text/plain": [
       "[array([[ 8.20150319e-03, -3.52623798e-02,  2.22923055e-01,\n",
       "         -6.06170185e-02,  7.52959307e-03, -3.72003131e-02,\n",
       "         -7.04503059e-02,  8.67251009e-02,  1.54955715e-01,\n",
       "         -4.12857682e-01],\n",
       "        [ 2.02479362e-02, -8.38024795e-01,  3.89408708e-01,\n",
       "         -5.63858271e-01,  1.00538298e-01, -1.66683093e-01,\n",
       "          1.79613948e-01,  5.63074350e-01, -4.76683527e-01,\n",
       "          5.27740791e-02],\n",
       "        [-1.03631735e-01,  9.67985764e-02, -3.75037491e-01,\n",
       "          6.24320149e-01,  1.02734041e+00,  2.38382444e-02,\n",
       "         -4.25110489e-01,  2.35187069e-01, -2.76784748e-01,\n",
       "          7.00881779e-01],\n",
       "        [ 2.91149467e-01,  6.99405149e-02,  2.40548044e-01,\n",
       "          6.06163859e-01, -6.72507346e-01, -5.85029321e-03,\n",
       "         -7.04758406e-01,  9.46307957e-01, -5.98736823e-01,\n",
       "         -1.01689912e-01],\n",
       "        [-1.00100569e-01,  3.71890478e-02,  1.47058323e-01,\n",
       "          1.57602295e-01,  1.42963519e-02,  1.43202674e-03,\n",
       "         -2.11116970e-02,  3.10739782e-03, -2.52443671e-01,\n",
       "          9.48720798e-02],\n",
       "        [ 1.72799855e-01, -2.95876652e-01, -7.19661951e-01,\n",
       "         -6.19741296e-03, -2.68045384e-02, -2.56783396e-01,\n",
       "          9.38289464e-02, -1.38758821e-02, -1.04351841e-01,\n",
       "         -4.27082658e-01],\n",
       "        [ 1.07481039e+00, -3.32061619e-01, -2.86489546e-01,\n",
       "         -5.04340351e-01, -9.86053497e-02, -1.83485460e+00,\n",
       "         -2.71339118e-01, -1.43474594e-01, -9.32817236e-02,\n",
       "          7.11382180e-03],\n",
       "        [-9.89662707e-02,  1.13115393e-01,  5.10681391e-01,\n",
       "         -4.36757445e-01,  5.24339527e-02, -6.46081194e-02,\n",
       "         -6.40174225e-02, -2.67202437e-01, -1.94491953e-01,\n",
       "         -3.77620831e-02],\n",
       "        [-6.12227798e-01,  1.64711326e-01,  9.85679999e-02,\n",
       "         -2.14191452e-01, -1.89343214e-01, -5.15376389e-01,\n",
       "         -3.52702677e-01,  1.14762656e-01, -6.12783194e-01,\n",
       "         -2.95257419e-01],\n",
       "        [ 9.58377644e-02,  4.00086977e-02, -3.96936864e-01,\n",
       "         -1.00194082e-01,  1.02261687e-02,  2.61088442e-02,\n",
       "         -2.88698021e-02,  3.32970142e-01,  2.76938289e-01,\n",
       "         -8.68081823e-02]], dtype=float32),\n",
       " array([ 0.09419658,  0.17270504,  0.22024487, -0.05681979,  0.10608213,\n",
       "         0.4963916 ,  0.5110357 ,  0.3238229 ,  0.43694884,  0.16261159],\n",
       "       dtype=float32),\n",
       " array([[-0.18337159, -0.3249947 , -0.4427126 ,  1.4831378 , -0.35034105],\n",
       "        [ 0.67509395,  0.5144468 , -0.0448356 , -0.41844356, -0.14311351],\n",
       "        [-0.82706994,  0.26782152, -1.6145502 ,  0.02260968, -0.05087234],\n",
       "        [ 0.48604366,  0.25774643, -0.5647946 ,  0.27574298, -0.16212972],\n",
       "        [-0.06693231,  0.5680093 ,  0.6199375 , -0.43714178,  0.90408975],\n",
       "        [ 0.29174832, -0.85605764, -0.3946697 ,  1.1530439 , -0.4491227 ],\n",
       "        [ 0.30221578,  0.53031754,  0.6498787 , -0.41377473,  1.0168107 ],\n",
       "        [-0.68664247,  0.25212348, -0.5907519 , -0.01428646,  0.55973923],\n",
       "        [-0.33669046,  0.5989265 ,  0.2539595 ,  0.476005  ,  0.79476196],\n",
       "        [-0.90108603,  0.476975  ,  0.25191292,  0.74656916,  0.41113105]],\n",
       "       dtype=float32),\n",
       " array([ 0.1258979 ,  0.49443835, -0.2877896 , -0.14110053,  0.65079886],\n",
       "       dtype=float32),\n",
       " array([[-1.1613683 ],\n",
       "        [-1.4616462 ],\n",
       "        [ 1.5247369 ],\n",
       "        [ 0.82344896],\n",
       "        [-0.54208106]], dtype=float32),\n",
       " array([-0.21709326], dtype=float32)]"
      ]
     },
     "execution_count": 38,
     "metadata": {},
     "output_type": "execute_result"
    }
   ],
   "source": [
    "## get weights\n",
    "classifier.get_weights()"
   ]
  },
  {
   "cell_type": "code",
   "execution_count": null,
   "id": "fcb67eaf",
   "metadata": {},
   "outputs": [],
   "source": []
  }
 ],
 "metadata": {
  "kernelspec": {
   "display_name": "Python 3 (ipykernel)",
   "language": "python",
   "name": "python3"
  },
  "language_info": {
   "codemirror_mode": {
    "name": "ipython",
    "version": 3
   },
   "file_extension": ".py",
   "mimetype": "text/x-python",
   "name": "python",
   "nbconvert_exporter": "python",
   "pygments_lexer": "ipython3",
   "version": "3.10.9"
  }
 },
 "nbformat": 4,
 "nbformat_minor": 5
}
